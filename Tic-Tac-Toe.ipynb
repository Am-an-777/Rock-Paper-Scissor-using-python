{
 "cells": [
  {
   "cell_type": "code",
   "execution_count": 1,
   "id": "e0cb829f",
   "metadata": {},
   "outputs": [
    {
     "name": "stdout",
     "output_type": "stream",
     "text": [
      "\n",
      "Round 1 - Current Score: You 0 : Computer 0 : Tie 0\n",
      "Choose rock, paper or scissors (or 'exit' to quit): rock\n",
      "The computer chose rock\n",
      "It's a tie!\n",
      "\n",
      "Round 2 - Current Score: You 0 : Computer 0 : Tie 1\n",
      "Choose rock, paper or scissors (or 'exit' to quit): aperp\n",
      "Invalid choice, please try again.\n",
      "\n",
      "Round 3 - Current Score: You 0 : Computer 0 : Tie 1\n",
      "Choose rock, paper or scissors (or 'exit' to quit): exit\n",
      "\n",
      "Final Score: You 0 : Computer 0 : Tie 1\n",
      "Invalid rounds: 1\n",
      "Valid rounds: 1\n",
      "Total rounds: 2\n",
      "Game tied\n"
     ]
    }
   ],
   "source": [
    "import random\n",
    "\n",
    "options = [\"rock\", \"paper\", \"scissors\"]\n",
    "user_score = 0\n",
    "computer_score = 0\n",
    "tie_score=0\n",
    "round_count = 0\n",
    "invalid_input=0\n",
    "valid_rounds=0\n",
    "\n",
    "while True:\n",
    "    round_count+=1\n",
    "    print(f\"\\nRound {round_count} - Current Score: You {user_score} : Computer {computer_score} : Tie {tie_score}\")\n",
    "    user_choice = input(\"Choose rock, paper or scissors (or 'exit' to quit): \").lower()\n",
    "\n",
    "    if user_choice == 'exit':\n",
    "        valid_rounds=round_count-1\n",
    "        print(f\"\\nFinal Score: You {user_score} : Computer {computer_score} : Tie {tie_score}\")\n",
    "        print(\"Invalid rounds:\",invalid_input)\n",
    "        print(\"Valid rounds:\",valid_rounds-invalid_input)\n",
    "        print(\"Total rounds:\",round_count-1)\n",
    "        if user_score>computer_score:\n",
    "            print(\"You win the game\")\n",
    "        elif computer_score>user_score:\n",
    "            print(\"Computer win the game\")\n",
    "        else:\n",
    "            print(\"Game tied\")\n",
    "        break\n",
    "\n",
    "    if user_choice not in options:\n",
    "        print(\"Invalid choice, please try again.\")\n",
    "        invalid_input+=1 \n",
    "        continue\n",
    "\n",
    "    computer_choice = random.choice(options)\n",
    "    print(\"The computer chose\", computer_choice)\n",
    "\n",
    "    if user_choice == computer_choice:\n",
    "        print(\"It's a tie!\")\n",
    "        tie_score+=1\n",
    "\n",
    "    elif (user_choice == \"rock\" and computer_choice == \"scissors\") or (user_choice == \"paper\" and computer_choice == \"rock\") or (user_choice == \"scissors\" and computer_choice == \"paper\"):\n",
    "        print(\"You won this round!\")\n",
    "        user_score += 1\n",
    "    else:\n",
    "        print(\"Computer won this round!\")\n",
    "        computer_score += 1"
   ]
  },
  {
   "cell_type": "code",
   "execution_count": null,
   "id": "5a7eebf1",
   "metadata": {},
   "outputs": [],
   "source": []
  }
 ],
 "metadata": {
  "kernelspec": {
   "display_name": "Python 3 (ipykernel)",
   "language": "python",
   "name": "python3"
  },
  "language_info": {
   "codemirror_mode": {
    "name": "ipython",
    "version": 3
   },
   "file_extension": ".py",
   "mimetype": "text/x-python",
   "name": "python",
   "nbconvert_exporter": "python",
   "pygments_lexer": "ipython3",
   "version": "3.9.13"
  }
 },
 "nbformat": 4,
 "nbformat_minor": 5
}
